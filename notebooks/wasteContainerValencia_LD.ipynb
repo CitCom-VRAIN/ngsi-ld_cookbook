{
 "cells": [
  {
   "attachments": {},
   "cell_type": "markdown",
   "metadata": {},
   "source": [
    "# Requirements: wasteContainerValencia_LD.ipynb"
   ]
  },
  {
   "cell_type": "code",
   "execution_count": null,
   "metadata": {},
   "outputs": [],
   "source": [
    "! pip install \\\n",
    "    pathlib==1.0.1 \\\n",
    "    pandas==2.0.3 \\\n",
    "    missingno==0.5.2 \\\n",
    "    pysmartdatamodels==0.6.0"
   ]
  },
  {
   "attachments": {},
   "cell_type": "markdown",
   "metadata": {},
   "source": [
    "---\n",
    "\n",
    "# Code"
   ]
  },
  {
   "cell_type": "code",
   "execution_count": null,
   "metadata": {},
   "outputs": [],
   "source": [
    "from pathlib import Path\n",
    "import pandas as pd\n",
    "import missingno as mn\n",
    "from matplotlib import pyplot as plt\n",
    "\n",
    "\n",
    "DATA_RAW = Path(\"data/private_datasets/wasteContainer_Valencia\")"
   ]
  },
  {
   "attachments": {},
   "cell_type": "markdown",
   "metadata": {},
   "source": [
    "### Utils"
   ]
  },
  {
   "cell_type": "code",
   "execution_count": null,
   "metadata": {},
   "outputs": [],
   "source": [
    "from pysmartdatamodels import pysmartdatamodels as sdm\n",
    "\n",
    "\n",
    "def attributes_checker(subject: str, datamodel: str, attribute: str) -> bool:\n",
    "    \"\"\"\n",
    "    Check if attribute is in the datamodel.\n",
    "\n",
    "    Args:\n",
    "        subject (str): _description_\n",
    "        datamodel (str): _description_\n",
    "        attribute (str): _description_\n",
    "    \"\"\"\n",
    "    if attribute in sdm.attributes_datamodel(subject, datamodel):\n",
    "        return True\n",
    "    else:\n",
    "        return False"
   ]
  },
  {
   "attachments": {},
   "cell_type": "markdown",
   "metadata": {},
   "source": [
    "## Data cleaning"
   ]
  },
  {
   "cell_type": "code",
   "execution_count": null,
   "metadata": {},
   "outputs": [],
   "source": [
    "# list content in DATA_RAW\n",
    "print(list(DATA_RAW.glob(\"*\")))\n",
    "\n",
    "df_wasteContainer = pd.read_csv(\n",
    "    DATA_RAW / \"contenidors-residus-solids-contenidores-residuos-solidos.csv\", sep=\";\"\n",
    ")\n",
    "df_wasteContainer.head()"
   ]
  },
  {
   "attachments": {},
   "cell_type": "markdown",
   "metadata": {},
   "source": [
    "Filas repetidas"
   ]
  },
  {
   "cell_type": "code",
   "execution_count": null,
   "metadata": {},
   "outputs": [],
   "source": [
    "raw_n_rows = df_wasteContainer.shape[0]\n",
    "print(\"Nº contenedores: \", raw_n_rows)\n",
    "df_wasteContainer.drop_duplicates(inplace=True)\n",
    "print(\"Nº contenedores duplicados: \", raw_n_rows - df_wasteContainer.shape[0])"
   ]
  },
  {
   "attachments": {},
   "cell_type": "markdown",
   "metadata": {},
   "source": [
    "Valores faltantes"
   ]
  },
  {
   "cell_type": "code",
   "execution_count": null,
   "metadata": {},
   "outputs": [],
   "source": [
    "# mn.matrix(df_wasteContainer, figsize=(10, 10))\n",
    "# plt.show()"
   ]
  },
  {
   "cell_type": "code",
   "execution_count": null,
   "metadata": {},
   "outputs": [],
   "source": [
    "# drop rows with all NaN values\n",
    "df_no_nan = df_wasteContainer.dropna(how=\"any\").copy()\n",
    "# calculate percentage of rows dropped\n",
    "print(\"Nº contenedores sin NaN: \", df_no_nan.shape[0])\n",
    "print(\n",
    "    \"Percentage of rows dropped: \",\n",
    "    round(((raw_n_rows - df_no_nan.shape[0]) / raw_n_rows) * 100, 3),\n",
    "    \"%\",\n",
    ")\n",
    "\n",
    "# change multiples data types\n",
    "df_no_nan[\"Cod. Via\"] = df_no_nan[\"Cod. Via\"].astype(\"int64\")\n",
    "df_no_nan[\"Portal\"] = df_no_nan[\"Portal\"].astype(\"int64\")"
   ]
  },
  {
   "attachments": {},
   "cell_type": "markdown",
   "metadata": {},
   "source": [
    "Seleccionamos trabajar con el dataset incompleto o reducido pero completo"
   ]
  },
  {
   "cell_type": "code",
   "execution_count": null,
   "metadata": {},
   "outputs": [],
   "source": [
    "df_wasteWork = df_no_nan.copy()\n",
    "# df_wasteWork = df_wasteContainer.copy()\n",
    "\n",
    "set(df_wasteWork.columns)"
   ]
  },
  {
   "cell_type": "code",
   "execution_count": null,
   "metadata": {},
   "outputs": [],
   "source": [
    "df_wasteWork.sort_values(by=[\"OBJECTID\"], ascending=False).head()"
   ]
  },
  {
   "cell_type": "code",
   "execution_count": null,
   "metadata": {},
   "outputs": [],
   "source": [
    "df_wasteWork[\"Cod. Via\"].value_counts()"
   ]
  },
  {
   "cell_type": "code",
   "execution_count": null,
   "metadata": {},
   "outputs": [],
   "source": [
    "df_wasteWork[\"Productor\"].unique()"
   ]
  },
  {
   "cell_type": "code",
   "execution_count": null,
   "metadata": {},
   "outputs": [],
   "source": [
    "random_row = df_wasteWork.loc[14578, :]\n",
    "random_row"
   ]
  },
  {
   "cell_type": "code",
   "execution_count": null,
   "metadata": {},
   "outputs": [],
   "source": [
    "random_row.Portal"
   ]
  },
  {
   "attachments": {},
   "cell_type": "markdown",
   "metadata": {},
   "source": [
    "## URLs"
   ]
  },
  {
   "cell_type": "code",
   "execution_count": null,
   "metadata": {},
   "outputs": [],
   "source": [
    "import requests\n",
    "import json\n",
    "import random\n",
    "import time\n",
    "\n",
    "IP_ORION = \"fiware.orionld\"\n",
    "IP_QUANTUMLEAP = \"fiware.quantumleap\"\n",
    "PROJECT_NAME = \"citcom\"\n",
    "\n",
    "################################################################################\n",
    "# do not edit!\n",
    "\n",
    "URL_ORION_ENTITIES = f\"http://{IP_ORION}:1026/ngsi-ld/v1/entities\"\n",
    "URL_ORION_SUBSCRIPTION = f\"http://{IP_ORION}:1026/ngsi-ld/v1/subscriptions\"\n",
    "\n",
    "URL_QUANTUMLEAP_NOTIFY = f\"http://{IP_QUANTUMLEAP}:8668/v2/notify\"\n",
    "URL_QUANTUMLEAP_QUERIES = f\"http://{IP_QUANTUMLEAP}:8668/v2/entities\"\n",
    "\n",
    "HEADERS = {\"Content-Type\": \"application/ld+json\", \"NGSILD-Tenant\": PROJECT_NAME}\n",
    "\n",
    "################################################################################"
   ]
  },
  {
   "attachments": {},
   "cell_type": "markdown",
   "metadata": {},
   "source": [
    "## Suscripciones"
   ]
  },
  {
   "cell_type": "code",
   "execution_count": null,
   "metadata": {},
   "outputs": [],
   "source": [
    "payload = {\n",
    "    \"description\": \"Filling level changes.\",\n",
    "    \"type\": \"Subscription\",\n",
    "    \"entities\": [{\"type\": \"WasteContainer\", \"idPattern\": \".*\"}],\n",
    "    \"watchedAttributes\": [\"fillingLevel\", \"location\"],\n",
    "    \"notification\": {\n",
    "        \"attributes\": [\"fillingLevel\", \"location\"],\n",
    "        \"format\": \"normalized\",\n",
    "        \"endpoint\": {\n",
    "            \"uri\": URL_QUANTUMLEAP_NOTIFY,\n",
    "            \"accept\": \"application/json\",\n",
    "        },\n",
    "    },\n",
    "    \"@context\": \"https://raw.githubusercontent.com/smart-data-models/dataModel.WasteManagement/master/context.jsonld\",\n",
    "}\n",
    "\n",
    "\n",
    "requests.post(URL_ORION_SUBSCRIPTION, headers=HEADERS, data=json.dumps(payload))"
   ]
  },
  {
   "attachments": {},
   "cell_type": "markdown",
   "metadata": {},
   "source": [
    "Checking the subscriptions\n",
    "\n",
    "```\n",
    "curl -X GET \\\n",
    "  'http://localhost:1026/ngsi-ld/v1/subscriptions/' \\\n",
    "  -H 'NGSILD-Tenant: openiot'\n",
    "```"
   ]
  },
  {
   "cell_type": "code",
   "execution_count": null,
   "metadata": {},
   "outputs": [],
   "source": [
    "requests.get(URL_ORION_SUBSCRIPTION, headers={\"NGSILD-Tenant\": PROJECT_NAME}).json()"
   ]
  },
  {
   "attachments": {},
   "cell_type": "markdown",
   "metadata": {},
   "source": [
    "Checking supported operations"
   ]
  },
  {
   "cell_type": "code",
   "execution_count": null,
   "metadata": {},
   "outputs": [],
   "source": [
    "requests.options(URL_ORION_ENTITIES).headers"
   ]
  },
  {
   "cell_type": "code",
   "execution_count": null,
   "metadata": {},
   "outputs": [],
   "source": [
    "requests.options(f\"{URL_ORION_ENTITIES}/urn:ngsi-ld:WasteContainer:001\").headers"
   ]
  },
  {
   "cell_type": "code",
   "execution_count": null,
   "metadata": {},
   "outputs": [],
   "source": [
    "requests.options(f\"{URL_ORION_ENTITIES}/urn:ngsi-ld:WasteContainer:001/attrs\").headers"
   ]
  },
  {
   "cell_type": "code",
   "execution_count": null,
   "metadata": {},
   "outputs": [],
   "source": [
    "requests.options(\n",
    "    f\"{URL_ORION_ENTITIES}/urn:ngsi-ld:WasteContainer:001/attrs/fillingLevel\"\n",
    ").headers"
   ]
  },
  {
   "attachments": {},
   "cell_type": "markdown",
   "metadata": {},
   "source": [
    "## Agregamos nuevas entidades"
   ]
  },
  {
   "cell_type": "code",
   "execution_count": null,
   "metadata": {},
   "outputs": [],
   "source": [
    "id_entity = 0\n",
    "\n",
    "\n",
    "def add_entity_from_row(row, entity_type):\n",
    "    def get_id():\n",
    "        \"\"\"Increment id_counter and convert to string with 3 digits\n",
    "\n",
    "        Returns:\n",
    "            _type_: _description_\n",
    "        \"\"\"\n",
    "        global id_entity\n",
    "        id_entity += 1\n",
    "        return str(id_entity).zfill(3)\n",
    "\n",
    "    def get_status() -> str:\n",
    "        \"\"\"A random selector beetwen all this states\n",
    "\n",
    "        Returns:\n",
    "            _type_: _description_\n",
    "        \"\"\"\n",
    "        import random\n",
    "\n",
    "        states = [\n",
    "            \"ok\",\n",
    "            \"lidOpen\",\n",
    "            \"dropped\",\n",
    "            \"moved\",\n",
    "            \"vandalized\",\n",
    "            \"burned\",\n",
    "            \"unknown\",\n",
    "        ]\n",
    "        return random.choice(states)\n",
    "\n",
    "    def attribute_checker(payload: dict) -> None:\n",
    "        # remove strings that start with \"@\"\n",
    "        all_attri = list(filter(lambda x: not x.startswith(\"@\"), list(payload.keys())))\n",
    "\n",
    "        bool_attri = list(\n",
    "            map(\n",
    "                lambda attr: attributes_checker(  # slow function !!!\n",
    "                    \"dataModel.WasteManagement\", \"WasteContainer\", attr\n",
    "                ),\n",
    "                all_attri,\n",
    "            )\n",
    "        )\n",
    "\n",
    "        # get id from False values in bool_attri\n",
    "        false_attri = [all_attri[i] for i, x in enumerate(bool_attri) if not x]\n",
    "\n",
    "        assert (\n",
    "            len(false_attri) == 0\n",
    "        ), f\"The following attributes are not in the datamodel: {false_attri}\"\n",
    "        print(\"[PASS!] - All attributes are in the datamodel.\")\n",
    "\n",
    "    id_n = get_id()\n",
    "    payload_used = \"payl_container\"  # change this to change the payload used\n",
    "\n",
    "    payl_container = {\n",
    "        \"id\": f\"urn:ngsi-ld:{entity_type}:{id_n}\",\n",
    "        \"type\": entity_type,\n",
    "        \"location\": {\n",
    "            \"type\": \"Point\",\n",
    "            \"coordinates\": list(map(float, row[\"geo_point_2d\"].split(\", \"))),\n",
    "        },\n",
    "        \"address\": {\n",
    "            \"type\": \"Property\",\n",
    "            \"value\": {\n",
    "                \"addressCountry\": {\"type\": \"string\", \"value\": \"Spain\"},\n",
    "                \"addressLocality\": {\"type\": \"string\", \"value\": \"Valencia\"},\n",
    "                \"streetAddress\": {\n",
    "                    \"type\": \"string\",\n",
    "                    \"value\": str(row[\"Ubicació / Ubicación\"]),\n",
    "                },\n",
    "                \"streetNr\": {\"type\": \"string\", \"value\": str(row.Portal)},\n",
    "            },\n",
    "        },\n",
    "        \"status\": {\"type\": \"Property\", \"value\": get_status()},\n",
    "        \"storedWasteKind\": {\n",
    "            \"type\": \"Property\",\n",
    "            \"value\": row[\"Tipus Contenidor / Tipo Contenedor\"],\n",
    "        },\n",
    "        \"fillingLevel\": round(random.random(), 2),\n",
    "        \"@context\": \"https://raw.githubusercontent.com/smart-data-models/dataModel.WasteManagement/master/context.jsonld\",\n",
    "    }\n",
    "\n",
    "    (\n",
    "        attribute_checker(locals()[payload_used]) if id_entity == 1 else None\n",
    "    )  # execute only in the first iteration, too slow function pysmartdatamodels\n",
    "\n",
    "    return requests.post(\n",
    "        URL_ORION_ENTITIES, headers=HEADERS, data=json.dumps(locals()[payload_used])\n",
    "    )\n",
    "\n",
    "\n",
    "def add_entities_from_df(df, entity_type=\"WasteContainer\"):\n",
    "    for _, row in df.iterrows():\n",
    "        try:\n",
    "            response = add_entity_from_row(row, entity_type)\n",
    "            # print response if status code is not 201\n",
    "            if response.status_code != 201:\n",
    "                print(f\"Object ID error: {row.OBJECTID}\")\n",
    "                print(f\"Status code: {response.status_code}\")\n",
    "                print(f\"Error response: {response.text}\")\n",
    "                # stop the loop if status code is not 201\n",
    "                # break\n",
    "            time.sleep(0.08)\n",
    "        except AssertionError as e:\n",
    "            print(f\"[Assertion!] - {e}\")\n",
    "            break\n",
    "        except Exception as e:\n",
    "            print(f\"Error: {e}\")\n",
    "            print(f\"Row: {row}\")\n",
    "\n",
    "\n",
    "add_entities_from_df(df_wasteWork, \"WasteContainer\")"
   ]
  },
  {
   "attachments": {},
   "cell_type": "markdown",
   "metadata": {},
   "source": [
    "## Actualización variables"
   ]
  },
  {
   "cell_type": "code",
   "execution_count": null,
   "metadata": {},
   "outputs": [],
   "source": [
    "url = f\"{URL_ORION_ENTITIES}/urn:ngsi-ld:WasteContainer:001/attrs/fillingLevel\"\n",
    "payload = {\n",
    "    \"value\": 1,\n",
    "    \"@context\": \"https://raw.githubusercontent.com/smart-data-models/dataModel.WasteManagement/master/context.jsonld\",\n",
    "}\n",
    "\n",
    "# requests.put(url, headers=HEADERS, data=json.dumps(payload))\n",
    "requests.patch(url, headers=HEADERS, data=json.dumps(payload))"
   ]
  },
  {
   "cell_type": "code",
   "execution_count": null,
   "metadata": {},
   "outputs": [],
   "source": [
    "import time\n",
    "\n",
    "# update all containers\n",
    "count = 0\n",
    "for id_n in list(range(1, len(df_wasteWork.index) + 1)):\n",
    "    url = f\"{URL_ORION_ENTITIES}/urn:ngsi-ld:WasteContainer:{str(id_n).zfill(3)}/attrs/fillingLevel\"\n",
    "    payload = {\n",
    "        \"value\": round(random.random(), 2),\n",
    "        \"@context\": \"https://raw.githubusercontent.com/smart-data-models/dataModel.WasteManagement/master/context.jsonld\",\n",
    "    }\n",
    "\n",
    "    # requests.put(url, headers=HEADERS, data=json.dumps(payload))\n",
    "    requests.patch(url, headers=HEADERS, data=json.dumps(payload))\n",
    "    count += 1\n",
    "    # pause of 0.1 second\n",
    "    time.sleep(0.08)\n",
    "\n",
    "print(f\"Updated {count} containers.\")"
   ]
  },
  {
   "attachments": {},
   "cell_type": "markdown",
   "metadata": {},
   "source": [
    "## Time Series Data Queries (QuantumLeap API)\n",
    "\n",
    "[Source](https://ngsi-ld-tutorials.readthedocs.io/en/latest/time-series-data.html#:~:text=QuantumLeap%20API%20%2D%20List%20The%20First%20N%20Sampled%20Values)\n"
   ]
  },
  {
   "cell_type": "code",
   "execution_count": null,
   "metadata": {},
   "outputs": [],
   "source": [
    "url = f\"{URL_QUANTUMLEAP_QUERIES}/urn:ngsi-ld:WasteContainer:001/attrs/fillingLevel?limit=4\"\n",
    "headers = {\n",
    "    \"Accept\": \"application/json\",\n",
    "    \"Fiware-ServicePath\": \"/\",\n",
    "}\n",
    "\n",
    "requests.get(url, headers=headers).json()"
   ]
  },
  {
   "cell_type": "markdown",
   "metadata": {},
   "source": [
    "## Listar entidades del broker"
   ]
  },
  {
   "cell_type": "markdown",
   "metadata": {},
   "source": [
    "Muestra todos los atributos de las entidades"
   ]
  },
  {
   "cell_type": "code",
   "execution_count": null,
   "metadata": {},
   "outputs": [],
   "source": [
    "headers = {\n",
    "    \"Link\": '<https://raw.githubusercontent.com/smart-data-models/dataModel.WasteManagement/master/context.jsonld>; rel=\"http://www.w3.org/ns/json-ld#context\"; type=\"application/ld+json\"',\n",
    "    \"NGSILD-Tenant\": PROJECT_NAME,\n",
    "    \"Accept\": \"application/ld+json\",\n",
    "}\n",
    "params = {\"type\": \"WasteContainer\"}\n",
    "\n",
    "lst_entities = requests.get(URL_ORION_ENTITIES, headers=headers, params=params).json()\n",
    "print(len(lst_entities))\n",
    "display(lst_entities)"
   ]
  },
  {
   "cell_type": "markdown",
   "metadata": {},
   "source": [
    "Muestra los atributos de las entidades que se le indiquen"
   ]
  },
  {
   "cell_type": "code",
   "execution_count": null,
   "metadata": {},
   "outputs": [],
   "source": [
    "headers = {\n",
    "    \"Link\": '<https://raw.githubusercontent.com/smart-data-models/dataModel.WasteManagement/master/context.jsonld>; rel=\"http://www.w3.org/ns/json-ld#context\"; type=\"application/ld+json\"',\n",
    "    \"NGSILD-Tenant\": PROJECT_NAME,\n",
    "    \"Accept\": \"application/ld+json\",\n",
    "}\n",
    "params = {\n",
    "    \"type\": \"WasteContainer\",\n",
    "    \"options\": \"keyValues\",\n",
    "    \"attrs\": \"location,fillingLevel\",\n",
    "}\n",
    "\n",
    "lst_entities = requests.get(URL_ORION_ENTITIES, headers=headers, params=params).json()\n",
    "lst_entities"
   ]
  },
  {
   "cell_type": "markdown",
   "metadata": {},
   "source": [
    "Usando la paginación para mostrar TODAS las entidades"
   ]
  },
  {
   "cell_type": "code",
   "execution_count": null,
   "metadata": {},
   "outputs": [],
   "source": [
    "headers = {\n",
    "    \"Link\": '<https://raw.githubusercontent.com/smart-data-models/dataModel.WasteManagement/master/context.jsonld>; rel=\"http://www.w3.org/ns/json-ld#context\"; type=\"application/ld+json\"',\n",
    "    \"NGSILD-Tenant\": PROJECT_NAME,\n",
    "    \"Accept\": \"application/ld+json\",\n",
    "}\n",
    "\n",
    "params = {\n",
    "    \"type\": \"WasteContainer\",\n",
    "    \"limit\": 1000,  # Controla la paginación (máximo 1000)\n",
    "    \"offset\": 0,  # Inicializa el offset en 0\n",
    "    \"options\": \"keyValues\",\n",
    "    \"attrs\": \"location,fillingLevel\",\n",
    "}\n",
    "\n",
    "all_entities = []\n",
    "\n",
    "while True:\n",
    "    response = requests.get(URL_ORION_ENTITIES, headers=headers, params=params)\n",
    "    entities = response.json()\n",
    "    all_entities.extend(entities)\n",
    "\n",
    "    # Verifica si hay más páginas de resultados\n",
    "    if len(entities) < params[\"limit\"]:\n",
    "        break\n",
    "\n",
    "    # Ajusta el parámetro \"offset\" para la siguiente página\n",
    "    params[\"offset\"] += params[\"limit\"]\n",
    "\n",
    "print(f\"Total de entidades recuperadas: {len(all_entities)}\")\n",
    "all_entities"
   ]
  },
  {
   "cell_type": "code",
   "execution_count": null,
   "metadata": {},
   "outputs": [],
   "source": [
    "# list of jsons to pandas dataframe\n",
    "df = pd.json_normalize(all_entities)\n",
    "df.drop(columns=[\"@context\", \"type\"], inplace=True)\n",
    "# split location column in two columns (latitude and longitude)\n",
    "df[[\"latitude\", \"longitude\"]] = pd.DataFrame(\n",
    "    df[\"location.coordinates\"].values.tolist(), index=df.index\n",
    ")\n",
    "df.drop(columns=[\"location.coordinates\", \"location.type\"], inplace=True)\n",
    "\n",
    "df"
   ]
  }
 ],
 "metadata": {
  "kernelspec": {
   "display_name": "Python 3 (ipykernel)",
   "language": "python",
   "name": "python3"
  },
  "language_info": {
   "codemirror_mode": {
    "name": "ipython",
    "version": 3
   },
   "file_extension": ".py",
   "mimetype": "text/x-python",
   "name": "python",
   "nbconvert_exporter": "python",
   "pygments_lexer": "ipython3",
   "version": "3.11.6"
  },
  "orig_nbformat": 4
 },
 "nbformat": 4,
 "nbformat_minor": 2
}
